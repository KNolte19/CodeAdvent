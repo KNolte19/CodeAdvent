{
 "cells": [
  {
   "cell_type": "code",
   "execution_count": 35,
   "id": "99ebe255-5626-4b95-80ce-2197f7c62c4e",
   "metadata": {},
   "outputs": [
    {
     "name": "stdout",
     "output_type": "stream",
     "text": [
      "53651\n"
     ]
    }
   ],
   "source": [
    "def get_first_number(list):\n",
    "    for char in char_list:\n",
    "        try: \n",
    "            first_number = int(char)\n",
    "            return first_number\n",
    "        except ValueError: \n",
    "            pass\n",
    "\n",
    "f = open(\"CodeAdventDay1.txt\", \"r\")\n",
    "codes = f.read().split(\"\\n\")\n",
    "\n",
    "counter = 0 \n",
    "for code in codes:\n",
    "    char_list =  [i for i in code]\n",
    "    first_number = get_first_number(char_list)\n",
    "    char_list.reverse()\n",
    "    last_number = get_first_number(char_list)\n",
    "    combined_number = int(str(first_number) + str(last_number))\n",
    "    counter += combined_number\n",
    "    \n",
    "print(counter)"
   ]
  }
 ],
 "metadata": {
  "kernelspec": {
   "display_name": "venv-metal",
   "language": "python",
   "name": "venv-metal"
  },
  "language_info": {
   "codemirror_mode": {
    "name": "ipython",
    "version": 3
   },
   "file_extension": ".py",
   "mimetype": "text/x-python",
   "name": "python",
   "nbconvert_exporter": "python",
   "pygments_lexer": "ipython3",
   "version": "3.10.12"
  }
 },
 "nbformat": 4,
 "nbformat_minor": 5
}
